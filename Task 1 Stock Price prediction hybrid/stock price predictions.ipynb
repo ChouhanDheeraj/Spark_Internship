{
 "cells": [
  {
   "cell_type": "markdown",
   "id": "26f7ec84",
   "metadata": {},
   "source": [
    "# Name: Dheeraj Chouhan\n",
    "## Task: Stock Market Prediction using Numerical and Textual Analysis\n",
    "### GRIP @ The Sparks Foundation`"
   ]
  },
  {
   "cell_type": "code",
   "execution_count": 1,
   "id": "44e6be16",
   "metadata": {},
   "outputs": [],
   "source": [
    "import pandas as pd\n",
    "from sklearn.preprocessing import MinMaxScaler\n",
    "from sklearn.metrics import mean_squared_error,mean_absolute_error\n",
    "from sklearn import metrics \n",
    "from keras.models import Sequential\n",
    "from keras.layers import Dense, LSTM\n",
    "import pandas as pd\n",
    "import matplotlib.pyplot as plt\n",
    "import numpy as np\n",
    "import math\n",
    "import re\n",
    "import nltk\n",
    "import re\n",
    "from nltk.corpus import stopwords\n",
    "from textblob import TextBlob\n",
    "from nltk.sentiment.vader import SentimentIntensityAnalyzer\n",
    "from sklearn.ensemble import RandomForestRegressor, AdaBoostRegressor\n",
    "import xgboost "
   ]
  },
  {
   "cell_type": "markdown",
   "id": "a993deda",
   "metadata": {},
   "source": [
    "# Data "
   ]
  },
  {
   "cell_type": "code",
   "execution_count": 2,
   "id": "9c0bbc1f",
   "metadata": {},
   "outputs": [
    {
     "data": {
      "text/html": [
       "<div>\n",
       "<style scoped>\n",
       "    .dataframe tbody tr th:only-of-type {\n",
       "        vertical-align: middle;\n",
       "    }\n",
       "\n",
       "    .dataframe tbody tr th {\n",
       "        vertical-align: top;\n",
       "    }\n",
       "\n",
       "    .dataframe thead th {\n",
       "        text-align: right;\n",
       "    }\n",
       "</style>\n",
       "<table border=\"1\" class=\"dataframe\">\n",
       "  <thead>\n",
       "    <tr style=\"text-align: right;\">\n",
       "      <th></th>\n",
       "      <th>Date</th>\n",
       "      <th>Open</th>\n",
       "      <th>High</th>\n",
       "      <th>Low</th>\n",
       "      <th>Close</th>\n",
       "      <th>Adj Close</th>\n",
       "      <th>Volume</th>\n",
       "    </tr>\n",
       "  </thead>\n",
       "  <tbody>\n",
       "    <tr>\n",
       "      <th>0</th>\n",
       "      <td>2019-12-17</td>\n",
       "      <td>41052.359375</td>\n",
       "      <td>41401.648438</td>\n",
       "      <td>41005.179688</td>\n",
       "      <td>41352.171875</td>\n",
       "      <td>41352.171875</td>\n",
       "      <td>19000.0</td>\n",
       "    </tr>\n",
       "    <tr>\n",
       "      <th>1</th>\n",
       "      <td>2019-12-18</td>\n",
       "      <td>41442.750000</td>\n",
       "      <td>41614.769531</td>\n",
       "      <td>41358.468750</td>\n",
       "      <td>41558.570313</td>\n",
       "      <td>41558.570313</td>\n",
       "      <td>24300.0</td>\n",
       "    </tr>\n",
       "    <tr>\n",
       "      <th>2</th>\n",
       "      <td>2019-12-19</td>\n",
       "      <td>41571.820313</td>\n",
       "      <td>41719.289063</td>\n",
       "      <td>41456.398438</td>\n",
       "      <td>41673.921875</td>\n",
       "      <td>41673.921875</td>\n",
       "      <td>33300.0</td>\n",
       "    </tr>\n",
       "    <tr>\n",
       "      <th>3</th>\n",
       "      <td>2019-12-20</td>\n",
       "      <td>41746.199219</td>\n",
       "      <td>41809.960938</td>\n",
       "      <td>41636.109375</td>\n",
       "      <td>41681.539063</td>\n",
       "      <td>41681.539063</td>\n",
       "      <td>33600.0</td>\n",
       "    </tr>\n",
       "    <tr>\n",
       "      <th>4</th>\n",
       "      <td>2019-12-23</td>\n",
       "      <td>41548.261719</td>\n",
       "      <td>41701.621094</td>\n",
       "      <td>41474.609375</td>\n",
       "      <td>41642.660156</td>\n",
       "      <td>41642.660156</td>\n",
       "      <td>6200.0</td>\n",
       "    </tr>\n",
       "    <tr>\n",
       "      <th>...</th>\n",
       "      <td>...</td>\n",
       "      <td>...</td>\n",
       "      <td>...</td>\n",
       "      <td>...</td>\n",
       "      <td>...</td>\n",
       "      <td>...</td>\n",
       "      <td>...</td>\n",
       "    </tr>\n",
       "    <tr>\n",
       "      <th>247</th>\n",
       "      <td>2020-12-11</td>\n",
       "      <td>46060.320313</td>\n",
       "      <td>46309.628906</td>\n",
       "      <td>45706.218750</td>\n",
       "      <td>46099.011719</td>\n",
       "      <td>46099.011719</td>\n",
       "      <td>26300.0</td>\n",
       "    </tr>\n",
       "    <tr>\n",
       "      <th>248</th>\n",
       "      <td>2020-12-14</td>\n",
       "      <td>46284.699219</td>\n",
       "      <td>46373.339844</td>\n",
       "      <td>45951.531250</td>\n",
       "      <td>46253.460938</td>\n",
       "      <td>46253.460938</td>\n",
       "      <td>18400.0</td>\n",
       "    </tr>\n",
       "    <tr>\n",
       "      <th>249</th>\n",
       "      <td>2020-12-15</td>\n",
       "      <td>46287.390625</td>\n",
       "      <td>46350.300781</td>\n",
       "      <td>45841.671875</td>\n",
       "      <td>46263.171875</td>\n",
       "      <td>46263.171875</td>\n",
       "      <td>16400.0</td>\n",
       "    </tr>\n",
       "    <tr>\n",
       "      <th>250</th>\n",
       "      <td>2020-12-16</td>\n",
       "      <td>46573.308594</td>\n",
       "      <td>46704.968750</td>\n",
       "      <td>46402.199219</td>\n",
       "      <td>46666.460938</td>\n",
       "      <td>46666.460938</td>\n",
       "      <td>13100.0</td>\n",
       "    </tr>\n",
       "    <tr>\n",
       "      <th>251</th>\n",
       "      <td>2020-12-17</td>\n",
       "      <td>46774.320313</td>\n",
       "      <td>46992.570313</td>\n",
       "      <td>46627.601563</td>\n",
       "      <td>46890.339844</td>\n",
       "      <td>46890.339844</td>\n",
       "      <td>0.0</td>\n",
       "    </tr>\n",
       "  </tbody>\n",
       "</table>\n",
       "<p>252 rows × 7 columns</p>\n",
       "</div>"
      ],
      "text/plain": [
       "           Date          Open          High           Low         Close  \\\n",
       "0    2019-12-17  41052.359375  41401.648438  41005.179688  41352.171875   \n",
       "1    2019-12-18  41442.750000  41614.769531  41358.468750  41558.570313   \n",
       "2    2019-12-19  41571.820313  41719.289063  41456.398438  41673.921875   \n",
       "3    2019-12-20  41746.199219  41809.960938  41636.109375  41681.539063   \n",
       "4    2019-12-23  41548.261719  41701.621094  41474.609375  41642.660156   \n",
       "..          ...           ...           ...           ...           ...   \n",
       "247  2020-12-11  46060.320313  46309.628906  45706.218750  46099.011719   \n",
       "248  2020-12-14  46284.699219  46373.339844  45951.531250  46253.460938   \n",
       "249  2020-12-15  46287.390625  46350.300781  45841.671875  46263.171875   \n",
       "250  2020-12-16  46573.308594  46704.968750  46402.199219  46666.460938   \n",
       "251  2020-12-17  46774.320313  46992.570313  46627.601563  46890.339844   \n",
       "\n",
       "        Adj Close   Volume  \n",
       "0    41352.171875  19000.0  \n",
       "1    41558.570313  24300.0  \n",
       "2    41673.921875  33300.0  \n",
       "3    41681.539063  33600.0  \n",
       "4    41642.660156   6200.0  \n",
       "..            ...      ...  \n",
       "247  46099.011719  26300.0  \n",
       "248  46253.460938  18400.0  \n",
       "249  46263.171875  16400.0  \n",
       "250  46666.460938  13100.0  \n",
       "251  46890.339844      0.0  \n",
       "\n",
       "[252 rows x 7 columns]"
      ]
     },
     "execution_count": 2,
     "metadata": {},
     "output_type": "execute_result"
    }
   ],
   "source": [
    "# Dataframe for EDA\n",
    "df = pd.read_csv('BESCN.csv')\n",
    "df"
   ]
  },
  {
   "cell_type": "markdown",
   "id": "b9e07b58",
   "metadata": {},
   "source": [
    "### Checking for null values"
   ]
  },
  {
   "cell_type": "code",
   "execution_count": 3,
   "id": "1b3001ae",
   "metadata": {},
   "outputs": [
    {
     "data": {
      "text/plain": [
       "Date         0\n",
       "Open         2\n",
       "High         2\n",
       "Low          2\n",
       "Close        2\n",
       "Adj Close    2\n",
       "Volume       2\n",
       "dtype: int64"
      ]
     },
     "execution_count": 3,
     "metadata": {},
     "output_type": "execute_result"
    }
   ],
   "source": [
    "# Total null values in columns\n",
    "df.isnull().sum()"
   ]
  },
  {
   "cell_type": "markdown",
   "id": "7d3dc112",
   "metadata": {},
   "source": [
    "### Convert Date to datetime formate and use as dataframe index"
   ]
  },
  {
   "cell_type": "code",
   "execution_count": 4,
   "id": "94261197",
   "metadata": {},
   "outputs": [],
   "source": [
    "df['Date'] = pd.to_datetime(df.Date,format='%Y-%m-%d')\n",
    "df.index = df['Date']\n",
    "df.dropna(inplace = True)"
   ]
  },
  {
   "cell_type": "markdown",
   "id": "833d917a",
   "metadata": {},
   "source": [
    "## Plotting closing price w.r.t to date"
   ]
  },
  {
   "cell_type": "code",
   "execution_count": 5,
   "id": "969fa1b4",
   "metadata": {},
   "outputs": [
    {
     "data": {
      "image/png": "[encoded data removed]",
      "text/plain": [
       "<Figure size 864x576 with 1 Axes>"
      ]
     },
     "metadata": {
      "needs_background": "light"
     },
     "output_type": "display_data"
    }
   ],
   "source": [
    "plt.figure(figsize=(12,8))\n",
    "plt.title('Closing Price')\n",
    "plt.plot(df['Close'],color = 'green')\n",
    "plt.ylabel('Price')\n",
    "plt.xlabel('Date')\n",
    "plt.show()"
   ]
  },
  {
   "cell_type": "code",
   "execution_count": 6,
   "id": "965986da",
   "metadata": {},
   "outputs": [],
   "source": [
    "# storing seed \n",
    "np.random.seed(7)"
   ]
  },
  {
   "cell_type": "code",
   "execution_count": 7,
   "id": "04c69c27",
   "metadata": {},
   "outputs": [],
   "source": [
    "df2 = pd.read_csv('BESCN.csv', usecols=[5], engine='python')\n",
    "df2.dropna(inplace=True)\n",
    "df2 = df2.values\n",
    "df2 = df2.astype('float32')"
   ]
  },
  {
   "cell_type": "markdown",
   "id": "ddaeb45f",
   "metadata": {},
   "source": [
    "## Preparing Dataframe for X and Y"
   ]
  },
  {
   "cell_type": "code",
   "execution_count": 8,
   "id": "f85ae77d",
   "metadata": {},
   "outputs": [],
   "source": [
    "def create_dataset(df2, look_back=1):\n",
    "    dataX, dataY = [], []\n",
    "    for i in range(len(df2)-look_back-1):\n",
    "        a = df2[i:(i+look_back), 0]\n",
    "        dataX.append(a)\n",
    "        dataY.append(df2[i + look_back, 0])\n",
    "    return np.array(dataX), np.array(dataY)\n"
   ]
  },
  {
   "cell_type": "markdown",
   "id": "41b5a351",
   "metadata": {},
   "source": [
    "## Data Normalization and Spliting`"
   ]
  },
  {
   "cell_type": "code",
   "execution_count": 9,
   "id": "c103d3ea",
   "metadata": {},
   "outputs": [],
   "source": [
    "\n",
    "# normalize the dataset\n",
    "scaler = MinMaxScaler(feature_range=(0, 1))\n",
    "df2 = scaler.fit_transform(df2)\n",
    "\n",
    "# split into train and test sets\n",
    "train_size = int(len(df2) * 0.67)\n",
    "test_size = len(df2) - train_size\n",
    "train, test = df2[0:train_size,:], df2[train_size:len(df2),:]\n"
   ]
  },
  {
   "cell_type": "code",
   "execution_count": 10,
   "id": "241d0ba0",
   "metadata": {},
   "outputs": [],
   "source": [
    "look_back = 3\n",
    "trainX, trainY = create_dataset(train, look_back)\n",
    "testX, testY = create_dataset(test, look_back)\n"
   ]
  },
  {
   "cell_type": "code",
   "execution_count": 11,
   "id": "6137ce51",
   "metadata": {},
   "outputs": [],
   "source": [
    "#reshape input to be [past, present, future]\n",
    "trainX = np.reshape(trainX, (trainX.shape[0], trainX.shape[1], 1))\n",
    "testX = np.reshape(testX, (testX.shape[0], testX.shape[1], 1))\n"
   ]
  },
  {
   "cell_type": "markdown",
   "id": "5d418eda",
   "metadata": {},
   "source": [
    "## Neural Network "
   ]
  },
  {
   "cell_type": "code",
   "execution_count": 12,
   "id": "000908e2",
   "metadata": {},
   "outputs": [
    {
     "name": "stdout",
     "output_type": "stream",
     "text": [
      "Epoch 1/100\n",
      "163/163 - 4s - loss: 0.1279 - 4s/epoch - 22ms/step\n",
      "Epoch 2/100\n",
      "163/163 - 0s - loss: 0.0408 - 440ms/epoch - 3ms/step\n",
      "Epoch 3/100\n",
      "163/163 - 0s - loss: 0.0321 - 445ms/epoch - 3ms/step\n",
      "Epoch 4/100\n",
      "163/163 - 0s - loss: 0.0330 - 416ms/epoch - 3ms/step\n",
      "Epoch 5/100\n",
      "163/163 - 0s - loss: 0.0315 - 385ms/epoch - 2ms/step\n",
      "Epoch 6/100\n",
      "163/163 - 0s - loss: 0.0323 - 367ms/epoch - 2ms/step\n",
      "Epoch 7/100\n",
      "163/163 - 0s - loss: 0.0310 - 398ms/epoch - 2ms/step\n",
      "Epoch 8/100\n",
      "163/163 - 0s - loss: 0.0312 - 354ms/epoch - 2ms/step\n",
      "Epoch 9/100\n",
      "163/163 - 0s - loss: 0.0305 - 368ms/epoch - 2ms/step\n",
      "Epoch 10/100\n",
      "163/163 - 0s - loss: 0.0295 - 402ms/epoch - 2ms/step\n",
      "Epoch 11/100\n",
      "163/163 - 0s - loss: 0.0321 - 434ms/epoch - 3ms/step\n",
      "Epoch 12/100\n",
      "163/163 - 0s - loss: 0.0315 - 417ms/epoch - 3ms/step\n",
      "Epoch 13/100\n",
      "163/163 - 0s - loss: 0.0303 - 409ms/epoch - 3ms/step\n",
      "Epoch 14/100\n",
      "163/163 - 0s - loss: 0.0303 - 419ms/epoch - 3ms/step\n",
      "Epoch 15/100\n",
      "163/163 - 0s - loss: 0.0311 - 420ms/epoch - 3ms/step\n",
      "Epoch 16/100\n",
      "163/163 - 0s - loss: 0.0304 - 393ms/epoch - 2ms/step\n",
      "Epoch 17/100\n",
      "163/163 - 0s - loss: 0.0299 - 406ms/epoch - 2ms/step\n",
      "Epoch 18/100\n",
      "163/163 - 0s - loss: 0.0298 - 454ms/epoch - 3ms/step\n",
      "Epoch 19/100\n",
      "163/163 - 0s - loss: 0.0306 - 425ms/epoch - 3ms/step\n",
      "Epoch 20/100\n",
      "163/163 - 0s - loss: 0.0300 - 398ms/epoch - 2ms/step\n",
      "Epoch 21/100\n",
      "163/163 - 0s - loss: 0.0298 - 392ms/epoch - 2ms/step\n",
      "Epoch 22/100\n",
      "163/163 - 0s - loss: 0.0313 - 389ms/epoch - 2ms/step\n",
      "Epoch 23/100\n",
      "163/163 - 0s - loss: 0.0333 - 419ms/epoch - 3ms/step\n",
      "Epoch 24/100\n",
      "163/163 - 0s - loss: 0.0306 - 407ms/epoch - 2ms/step\n",
      "Epoch 25/100\n",
      "163/163 - 0s - loss: 0.0302 - 415ms/epoch - 3ms/step\n",
      "Epoch 26/100\n",
      "163/163 - 0s - loss: 0.0291 - 444ms/epoch - 3ms/step\n",
      "Epoch 27/100\n",
      "163/163 - 0s - loss: 0.0300 - 464ms/epoch - 3ms/step\n",
      "Epoch 28/100\n",
      "163/163 - 0s - loss: 0.0287 - 436ms/epoch - 3ms/step\n",
      "Epoch 29/100\n",
      "163/163 - 0s - loss: 0.0311 - 403ms/epoch - 2ms/step\n",
      "Epoch 30/100\n",
      "163/163 - 0s - loss: 0.0288 - 393ms/epoch - 2ms/step\n",
      "Epoch 31/100\n",
      "163/163 - 0s - loss: 0.0294 - 377ms/epoch - 2ms/step\n",
      "Epoch 32/100\n",
      "163/163 - 0s - loss: 0.0283 - 400ms/epoch - 2ms/step\n",
      "Epoch 33/100\n",
      "163/163 - 0s - loss: 0.0293 - 499ms/epoch - 3ms/step\n",
      "Epoch 34/100\n",
      "163/163 - 1s - loss: 0.0296 - 581ms/epoch - 4ms/step\n",
      "Epoch 35/100\n",
      "163/163 - 0s - loss: 0.0301 - 458ms/epoch - 3ms/step\n",
      "Epoch 36/100\n",
      "163/163 - 0s - loss: 0.0296 - 397ms/epoch - 2ms/step\n",
      "Epoch 37/100\n",
      "163/163 - 0s - loss: 0.0290 - 412ms/epoch - 3ms/step\n",
      "Epoch 38/100\n",
      "163/163 - 0s - loss: 0.0306 - 417ms/epoch - 3ms/step\n",
      "Epoch 39/100\n",
      "163/163 - 0s - loss: 0.0285 - 433ms/epoch - 3ms/step\n",
      "Epoch 40/100\n",
      "163/163 - 0s - loss: 0.0306 - 414ms/epoch - 3ms/step\n",
      "Epoch 41/100\n",
      "163/163 - 0s - loss: 0.0304 - 417ms/epoch - 3ms/step\n",
      "Epoch 42/100\n",
      "163/163 - 0s - loss: 0.0287 - 388ms/epoch - 2ms/step\n",
      "Epoch 43/100\n",
      "163/163 - 0s - loss: 0.0283 - 448ms/epoch - 3ms/step\n",
      "Epoch 44/100\n",
      "163/163 - 0s - loss: 0.0301 - 427ms/epoch - 3ms/step\n",
      "Epoch 45/100\n",
      "163/163 - 0s - loss: 0.0296 - 430ms/epoch - 3ms/step\n",
      "Epoch 46/100\n",
      "163/163 - 0s - loss: 0.0291 - 421ms/epoch - 3ms/step\n",
      "Epoch 47/100\n",
      "163/163 - 0s - loss: 0.0285 - 384ms/epoch - 2ms/step\n",
      "Epoch 48/100\n",
      "163/163 - 0s - loss: 0.0290 - 417ms/epoch - 3ms/step\n",
      "Epoch 49/100\n",
      "163/163 - 0s - loss: 0.0296 - 405ms/epoch - 2ms/step\n",
      "Epoch 50/100\n",
      "163/163 - 0s - loss: 0.0284 - 428ms/epoch - 3ms/step\n",
      "Epoch 51/100\n",
      "163/163 - 0s - loss: 0.0273 - 409ms/epoch - 3ms/step\n",
      "Epoch 52/100\n",
      "163/163 - 0s - loss: 0.0285 - 411ms/epoch - 3ms/step\n",
      "Epoch 53/100\n",
      "163/163 - 0s - loss: 0.0314 - 438ms/epoch - 3ms/step\n",
      "Epoch 54/100\n",
      "163/163 - 0s - loss: 0.0290 - 410ms/epoch - 3ms/step\n",
      "Epoch 55/100\n",
      "163/163 - 0s - loss: 0.0285 - 392ms/epoch - 2ms/step\n",
      "Epoch 56/100\n",
      "163/163 - 0s - loss: 0.0290 - 365ms/epoch - 2ms/step\n",
      "Epoch 57/100\n",
      "163/163 - 0s - loss: 0.0277 - 434ms/epoch - 3ms/step\n",
      "Epoch 58/100\n",
      "163/163 - 0s - loss: 0.0298 - 401ms/epoch - 2ms/step\n",
      "Epoch 59/100\n",
      "163/163 - 0s - loss: 0.0280 - 417ms/epoch - 3ms/step\n",
      "Epoch 60/100\n",
      "163/163 - 0s - loss: 0.0283 - 417ms/epoch - 3ms/step\n",
      "Epoch 61/100\n",
      "163/163 - 0s - loss: 0.0273 - 400ms/epoch - 2ms/step\n",
      "Epoch 62/100\n",
      "163/163 - 0s - loss: 0.0267 - 395ms/epoch - 2ms/step\n",
      "Epoch 63/100\n",
      "163/163 - 0s - loss: 0.0277 - 439ms/epoch - 3ms/step\n",
      "Epoch 64/100\n",
      "163/163 - 0s - loss: 0.0278 - 436ms/epoch - 3ms/step\n",
      "Epoch 65/100\n",
      "163/163 - 0s - loss: 0.0263 - 435ms/epoch - 3ms/step\n",
      "Epoch 66/100\n",
      "163/163 - 0s - loss: 0.0268 - 424ms/epoch - 3ms/step\n",
      "Epoch 67/100\n",
      "163/163 - 0s - loss: 0.0265 - 384ms/epoch - 2ms/step\n",
      "Epoch 68/100\n",
      "163/163 - 0s - loss: 0.0264 - 444ms/epoch - 3ms/step\n",
      "Epoch 69/100\n",
      "163/163 - 0s - loss: 0.0268 - 372ms/epoch - 2ms/step\n",
      "Epoch 70/100\n",
      "163/163 - 0s - loss: 0.0273 - 408ms/epoch - 3ms/step\n",
      "Epoch 71/100\n",
      "163/163 - 0s - loss: 0.0269 - 426ms/epoch - 3ms/step\n",
      "Epoch 72/100\n",
      "163/163 - 0s - loss: 0.0265 - 414ms/epoch - 3ms/step\n",
      "Epoch 73/100\n",
      "163/163 - 0s - loss: 0.0268 - 430ms/epoch - 3ms/step\n",
      "Epoch 74/100\n",
      "163/163 - 0s - loss: 0.0277 - 432ms/epoch - 3ms/step\n",
      "Epoch 75/100\n",
      "163/163 - 0s - loss: 0.0260 - 419ms/epoch - 3ms/step\n",
      "Epoch 76/100\n",
      "163/163 - 0s - loss: 0.0278 - 434ms/epoch - 3ms/step\n",
      "Epoch 77/100\n",
      "163/163 - 0s - loss: 0.0278 - 447ms/epoch - 3ms/step\n",
      "Epoch 78/100\n",
      "163/163 - 0s - loss: 0.0259 - 384ms/epoch - 2ms/step\n",
      "Epoch 79/100\n",
      "163/163 - 0s - loss: 0.0266 - 286ms/epoch - 2ms/step\n",
      "Epoch 80/100\n",
      "163/163 - 0s - loss: 0.0260 - 348ms/epoch - 2ms/step\n",
      "Epoch 81/100\n",
      "163/163 - 0s - loss: 0.0256 - 316ms/epoch - 2ms/step\n",
      "Epoch 82/100\n",
      "163/163 - 0s - loss: 0.0263 - 387ms/epoch - 2ms/step\n",
      "Epoch 83/100\n",
      "163/163 - 0s - loss: 0.0262 - 338ms/epoch - 2ms/step\n",
      "Epoch 84/100\n",
      "163/163 - 0s - loss: 0.0254 - 349ms/epoch - 2ms/step\n",
      "Epoch 85/100\n",
      "163/163 - 0s - loss: 0.0256 - 379ms/epoch - 2ms/step\n",
      "Epoch 86/100\n",
      "163/163 - 0s - loss: 0.0252 - 417ms/epoch - 3ms/step\n",
      "Epoch 87/100\n",
      "163/163 - 0s - loss: 0.0275 - 401ms/epoch - 2ms/step\n",
      "Epoch 88/100\n",
      "163/163 - 0s - loss: 0.0260 - 303ms/epoch - 2ms/step\n",
      "Epoch 89/100\n",
      "163/163 - 0s - loss: 0.0255 - 301ms/epoch - 2ms/step\n",
      "Epoch 90/100\n",
      "163/163 - 0s - loss: 0.0261 - 324ms/epoch - 2ms/step\n",
      "Epoch 91/100\n",
      "163/163 - 0s - loss: 0.0255 - 358ms/epoch - 2ms/step\n",
      "Epoch 92/100\n",
      "163/163 - 0s - loss: 0.0255 - 423ms/epoch - 3ms/step\n",
      "Epoch 93/100\n",
      "163/163 - 0s - loss: 0.0258 - 444ms/epoch - 3ms/step\n",
      "Epoch 94/100\n",
      "163/163 - 0s - loss: 0.0273 - 382ms/epoch - 2ms/step\n",
      "Epoch 95/100\n",
      "163/163 - 0s - loss: 0.0243 - 410ms/epoch - 3ms/step\n",
      "Epoch 96/100\n",
      "163/163 - 0s - loss: 0.0267 - 438ms/epoch - 3ms/step\n",
      "Epoch 97/100\n",
      "163/163 - 0s - loss: 0.0247 - 360ms/epoch - 2ms/step\n",
      "Epoch 98/100\n",
      "163/163 - 0s - loss: 0.0257 - 440ms/epoch - 3ms/step\n",
      "Epoch 99/100\n",
      "163/163 - 0s - loss: 0.0272 - 289ms/epoch - 2ms/step\n",
      "Epoch 100/100\n",
      "163/163 - 0s - loss: 0.0245 - 378ms/epoch - 2ms/step\n"
     ]
    },
    {
     "data": {
      "text/plain": [
       "<keras.callbacks.History at 0x23dcc1dbd60>"
      ]
     },
     "execution_count": 12,
     "metadata": {},
     "output_type": "execute_result"
    }
   ],
   "source": [
    "model = Sequential()\n",
    "model.add(LSTM(9, input_shape=(look_back, 1)))\n",
    "model.add(Dense(1))\n",
    "model.compile(loss='mae', optimizer='adam')\n",
    "model.fit(trainX, trainY, epochs=100, batch_size=1, verbose=2)"
   ]
  },
  {
   "cell_type": "markdown",
   "id": "77acda12",
   "metadata": {},
   "source": [
    "## Make predictions for Train and Test"
   ]
  },
  {
   "cell_type": "code",
   "execution_count": 13,
   "id": "f053fafd",
   "metadata": {},
   "outputs": [
    {
     "name": "stdout",
     "output_type": "stream",
     "text": [
      "6/6 [==============================] - 1s 1ms/step\n",
      "3/3 [==============================] - 0s 0s/step\n"
     ]
    }
   ],
   "source": [
    "trainPredict = model.predict(trainX)\n",
    "testPredict = model.predict(testX)\n"
   ]
  },
  {
   "cell_type": "markdown",
   "id": "7a1026c6",
   "metadata": {},
   "source": [
    "### Invert predictions for original values"
   ]
  },
  {
   "cell_type": "code",
   "execution_count": 14,
   "id": "69c03334",
   "metadata": {},
   "outputs": [],
   "source": [
    "trainPredict = scaler.inverse_transform(trainPredict)\n",
    "trainY = scaler.inverse_transform([trainY])\n",
    "testPredict = scaler.inverse_transform(testPredict)\n",
    "testY = scaler.inverse_transform([testY])\n"
   ]
  },
  {
   "cell_type": "markdown",
   "id": "de782170",
   "metadata": {},
   "source": [
    "## Plot Prediction"
   ]
  },
  {
   "cell_type": "code",
   "execution_count": 15,
   "id": "6048131b",
   "metadata": {},
   "outputs": [
    {
     "data": {
      "image/png": "[encoded data removed]",
      "text/plain": [
       "<Figure size 864x576 with 1 Axes>"
      ]
     },
     "metadata": {
      "needs_background": "light"
     },
     "output_type": "display_data"
    }
   ],
   "source": [
    "# shift train predictions for plotting\n",
    "trainPredictPlot = np.empty_like(df2)\n",
    "trainPredictPlot[:, :] = np.nan\n",
    "trainPredictPlot[look_back:len(trainPredict)+look_back, :] = trainPredict\n",
    "\n",
    "# shift test predictions for plotting\n",
    "testPredictPlot = np.empty_like(df2)\n",
    "testPredictPlot[:, :] = np.nan\n",
    "testPredictPlot[len(trainPredict)+(look_back*2)+1:len(df2)-1, :] = testPredict\n",
    "\n",
    "# plot baseline and predictions\n",
    "plt.figure(figsize=(12,8))\n",
    "plt.plot(scaler.inverse_transform(df2))\n",
    "plt.plot(trainPredictPlot,color='red')\n",
    "plt.plot(testPredictPlot,color='green',)\n",
    "plt.legend([\"Original\", \"Train\",'Test'])\n",
    "plt.ylabel('Price')\n",
    "plt.title('Closing Price Prediction Plot')\n",
    "plt.show()"
   ]
  },
  {
   "cell_type": "markdown",
   "id": "4cce6f30",
   "metadata": {},
   "source": [
    "# Calculating  mean absolute error"
   ]
  },
  {
   "cell_type": "code",
   "execution_count": 16,
   "id": "fde8fde5",
   "metadata": {},
   "outputs": [
    {
     "name": "stdout",
     "output_type": "stream",
     "text": [
      "Train mean absolute error =  588.1819462873813  MAE\n",
      "Test mean absolute error =  352.6198308880282  MAE\n"
     ]
    }
   ],
   "source": [
    "# calculate root mean absolute error\n",
    "trainScore = mean_absolute_error(trainY[0], trainPredict[:,0])\n",
    "print(\"Train mean absolute error = \",trainScore,\" MAE\")\n",
    "testScore = mean_absolute_error(testY[0], testPredict[:,0])\n",
    "print(\"Test mean absolute error = \",testScore,\" MAE\")\n"
   ]
  },
  {
   "cell_type": "markdown",
   "id": "1aff3211",
   "metadata": {},
   "source": [
    "# Hybrid model for Numerical and textual Analysis"
   ]
  },
  {
   "cell_type": "code",
   "execution_count": 17,
   "id": "966ebbd3",
   "metadata": {},
   "outputs": [
    {
     "data": {
      "text/html": [
       "<div>\n",
       "<style scoped>\n",
       "    .dataframe tbody tr th:only-of-type {\n",
       "        vertical-align: middle;\n",
       "    }\n",
       "\n",
       "    .dataframe tbody tr th {\n",
       "        vertical-align: top;\n",
       "    }\n",
       "\n",
       "    .dataframe thead th {\n",
       "        text-align: right;\n",
       "    }\n",
       "</style>\n",
       "<table border=\"1\" class=\"dataframe\">\n",
       "  <thead>\n",
       "    <tr style=\"text-align: right;\">\n",
       "      <th></th>\n",
       "      <th>publish_date</th>\n",
       "      <th>headline_category</th>\n",
       "      <th>headline_text</th>\n",
       "    </tr>\n",
       "  </thead>\n",
       "  <tbody>\n",
       "    <tr>\n",
       "      <th>0</th>\n",
       "      <td>20010102</td>\n",
       "      <td>unknown</td>\n",
       "      <td>Status quo will not be disturbed at Ayodhya; s...</td>\n",
       "    </tr>\n",
       "    <tr>\n",
       "      <th>1</th>\n",
       "      <td>20010102</td>\n",
       "      <td>unknown</td>\n",
       "      <td>Fissures in Hurriyat over Pak visit</td>\n",
       "    </tr>\n",
       "    <tr>\n",
       "      <th>2</th>\n",
       "      <td>20010102</td>\n",
       "      <td>unknown</td>\n",
       "      <td>America's unwanted heading for India?</td>\n",
       "    </tr>\n",
       "    <tr>\n",
       "      <th>3</th>\n",
       "      <td>20010102</td>\n",
       "      <td>unknown</td>\n",
       "      <td>For bigwigs; it is destination Goa</td>\n",
       "    </tr>\n",
       "    <tr>\n",
       "      <th>4</th>\n",
       "      <td>20010102</td>\n",
       "      <td>unknown</td>\n",
       "      <td>Extra buses to clear tourist traffic</td>\n",
       "    </tr>\n",
       "    <tr>\n",
       "      <th>...</th>\n",
       "      <td>...</td>\n",
       "      <td>...</td>\n",
       "      <td>...</td>\n",
       "    </tr>\n",
       "    <tr>\n",
       "      <th>3650965</th>\n",
       "      <td>20220331</td>\n",
       "      <td>city.srinagar</td>\n",
       "      <td>J&amp;K sacks 2 cops; 3 other employees over terro...</td>\n",
       "    </tr>\n",
       "    <tr>\n",
       "      <th>3650966</th>\n",
       "      <td>20220331</td>\n",
       "      <td>entertainment.hindi.bollywood</td>\n",
       "      <td>Ranbir Kapoor says 'Rishi Kapoor enjoyed his a...</td>\n",
       "    </tr>\n",
       "    <tr>\n",
       "      <th>3650967</th>\n",
       "      <td>20220331</td>\n",
       "      <td>city.trichy</td>\n",
       "      <td>As Covid-19 cases drop to nil in southern dist...</td>\n",
       "    </tr>\n",
       "    <tr>\n",
       "      <th>3650968</th>\n",
       "      <td>20220331</td>\n",
       "      <td>city.erode</td>\n",
       "      <td>Tamil Nadu sees marginal rise of Covid cases w...</td>\n",
       "    </tr>\n",
       "    <tr>\n",
       "      <th>3650969</th>\n",
       "      <td>20220331</td>\n",
       "      <td>city.salem</td>\n",
       "      <td>Tamil Nadu sees marginal rise of Covid cases w...</td>\n",
       "    </tr>\n",
       "  </tbody>\n",
       "</table>\n",
       "<p>3650970 rows × 3 columns</p>\n",
       "</div>"
      ],
      "text/plain": [
       "         publish_date              headline_category  \\\n",
       "0            20010102                        unknown   \n",
       "1            20010102                        unknown   \n",
       "2            20010102                        unknown   \n",
       "3            20010102                        unknown   \n",
       "4            20010102                        unknown   \n",
       "...               ...                            ...   \n",
       "3650965      20220331                  city.srinagar   \n",
       "3650966      20220331  entertainment.hindi.bollywood   \n",
       "3650967      20220331                    city.trichy   \n",
       "3650968      20220331                     city.erode   \n",
       "3650969      20220331                     city.salem   \n",
       "\n",
       "                                             headline_text  \n",
       "0        Status quo will not be disturbed at Ayodhya; s...  \n",
       "1                      Fissures in Hurriyat over Pak visit  \n",
       "2                    America's unwanted heading for India?  \n",
       "3                       For bigwigs; it is destination Goa  \n",
       "4                     Extra buses to clear tourist traffic  \n",
       "...                                                    ...  \n",
       "3650965  J&K sacks 2 cops; 3 other employees over terro...  \n",
       "3650966  Ranbir Kapoor says 'Rishi Kapoor enjoyed his a...  \n",
       "3650967  As Covid-19 cases drop to nil in southern dist...  \n",
       "3650968  Tamil Nadu sees marginal rise of Covid cases w...  \n",
       "3650969  Tamil Nadu sees marginal rise of Covid cases w...  \n",
       "\n",
       "[3650970 rows x 3 columns]"
      ]
     },
     "execution_count": 17,
     "metadata": {},
     "output_type": "execute_result"
    }
   ],
   "source": [
    "news = pd.read_csv('india-news-headlines.csv',index_col = False)\n",
    "news"
   ]
  },
  {
   "cell_type": "markdown",
   "id": "57bc14ed",
   "metadata": {},
   "source": [
    "# Text Preprocessing "
   ]
  },
  {
   "cell_type": "code",
   "execution_count": 18,
   "id": "9c772f4f",
   "metadata": {},
   "outputs": [
    {
     "name": "stdout",
     "output_type": "stream",
     "text": [
      "<class 'pandas.core.frame.DataFrame'>\n",
      "RangeIndex: 3650970 entries, 0 to 3650969\n",
      "Data columns (total 2 columns):\n",
      " #   Column  Dtype \n",
      "---  ------  ----- \n",
      " 0   Date    int64 \n",
      " 1   News    object\n",
      "dtypes: int64(1), object(1)\n",
      "memory usage: 55.7+ MB\n"
     ]
    }
   ],
   "source": [
    "columns = ['Date','Category','News']\n",
    "news.columns = columns\n",
    "news.drop('Category',axis = 1,inplace = True)\n",
    "news.info()"
   ]
  },
  {
   "cell_type": "code",
   "execution_count": 19,
   "id": "d9218c9f",
   "metadata": {},
   "outputs": [],
   "source": [
    " # Restructuring the date format\n",
    "news['Date'] = news['Date'].astype('object')\n",
    "news['Date'] = pd.to_datetime(news['Date'],format= 'ISO8601')"
   ]
  },
  {
   "cell_type": "markdown",
   "id": "b66a3793",
   "metadata": {},
   "source": [
    "### Grouping the headlines for each day"
   ]
  },
  {
   "cell_type": "code",
   "execution_count": 24,
   "id": "999fd35b",
   "metadata": {},
   "outputs": [
    {
     "data": {
      "text/html": [
       "<div>\n",
       "<style scoped>\n",
       "    .dataframe tbody tr th:only-of-type {\n",
       "        vertical-align: middle;\n",
       "    }\n",
       "\n",
       "    .dataframe tbody tr th {\n",
       "        vertical-align: top;\n",
       "    }\n",
       "\n",
       "    .dataframe thead th {\n",
       "        text-align: right;\n",
       "    }\n",
       "</style>\n",
       "<table border=\"1\" class=\"dataframe\">\n",
       "  <thead>\n",
       "    <tr style=\"text-align: right;\">\n",
       "      <th></th>\n",
       "      <th>Date</th>\n",
       "      <th>News</th>\n",
       "    </tr>\n",
       "  </thead>\n",
       "  <tbody>\n",
       "    <tr>\n",
       "      <th>0</th>\n",
       "      <td>2001-01-02</td>\n",
       "      <td>Status quo will not be disturbed at Ayodhya; s...</td>\n",
       "    </tr>\n",
       "    <tr>\n",
       "      <th>1</th>\n",
       "      <td>2001-01-03</td>\n",
       "      <td>Powerless north India gropes in the dark Think...</td>\n",
       "    </tr>\n",
       "    <tr>\n",
       "      <th>2</th>\n",
       "      <td>2001-01-04</td>\n",
       "      <td>The string that pulled Stephen Hawking to Indi...</td>\n",
       "    </tr>\n",
       "    <tr>\n",
       "      <th>3</th>\n",
       "      <td>2001-01-05</td>\n",
       "      <td>Light combat craft takes India into club class...</td>\n",
       "    </tr>\n",
       "    <tr>\n",
       "      <th>4</th>\n",
       "      <td>2001-01-06</td>\n",
       "      <td>Light combat craft takes India into club class...</td>\n",
       "    </tr>\n",
       "    <tr>\n",
       "      <th>...</th>\n",
       "      <td>...</td>\n",
       "      <td>...</td>\n",
       "    </tr>\n",
       "    <tr>\n",
       "      <th>251</th>\n",
       "      <td>2001-10-22</td>\n",
       "      <td>State govt. defends move on Ghai's film instit...</td>\n",
       "    </tr>\n",
       "    <tr>\n",
       "      <th>252</th>\n",
       "      <td>2001-10-23</td>\n",
       "      <td>'Safe passage' hits patch; Zoo animals breathe...</td>\n",
       "    </tr>\n",
       "    <tr>\n",
       "      <th>253</th>\n",
       "      <td>2001-10-24</td>\n",
       "      <td>Wholesalers sell medicines directly to many cu...</td>\n",
       "    </tr>\n",
       "    <tr>\n",
       "      <th>254</th>\n",
       "      <td>2001-10-25</td>\n",
       "      <td>Heroin seized; two detained Security around RJ...</td>\n",
       "    </tr>\n",
       "    <tr>\n",
       "      <th>255</th>\n",
       "      <td>2001-10-26</td>\n",
       "      <td>AUDA uses Canadian tech for quake-proof housin...</td>\n",
       "    </tr>\n",
       "  </tbody>\n",
       "</table>\n",
       "<p>256 rows × 2 columns</p>\n",
       "</div>"
      ],
      "text/plain": [
       "          Date                                               News\n",
       "0   2001-01-02  Status quo will not be disturbed at Ayodhya; s...\n",
       "1   2001-01-03  Powerless north India gropes in the dark Think...\n",
       "2   2001-01-04  The string that pulled Stephen Hawking to Indi...\n",
       "3   2001-01-05  Light combat craft takes India into club class...\n",
       "4   2001-01-06  Light combat craft takes India into club class...\n",
       "..         ...                                                ...\n",
       "251 2001-10-22  State govt. defends move on Ghai's film instit...\n",
       "252 2001-10-23  'Safe passage' hits patch; Zoo animals breathe...\n",
       "253 2001-10-24  Wholesalers sell medicines directly to many cu...\n",
       "254 2001-10-25  Heroin seized; two detained Security around RJ...\n",
       "255 2001-10-26  AUDA uses Canadian tech for quake-proof housin...\n",
       "\n",
       "[256 rows x 2 columns]"
      ]
     },
     "execution_count": 24,
     "metadata": {},
     "output_type": "execute_result"
    }
   ],
   "source": [
    "\n",
    "news['News'] = news.groupby(['Date']).transform(lambda x : ' '.join(x)) \n",
    "news = news.drop_duplicates() \n",
    "news.reset_index(inplace = True, drop = True)\n",
    "news"
   ]
  },
  {
   "cell_type": "code",
   "execution_count": 25,
   "id": "6c6d4fd7",
   "metadata": {},
   "outputs": [
    {
     "data": {
      "text/html": [
       "<div>\n",
       "<style scoped>\n",
       "    .dataframe tbody tr th:only-of-type {\n",
       "        vertical-align: middle;\n",
       "    }\n",
       "\n",
       "    .dataframe tbody tr th {\n",
       "        vertical-align: top;\n",
       "    }\n",
       "\n",
       "    .dataframe thead th {\n",
       "        text-align: right;\n",
       "    }\n",
       "</style>\n",
       "<table border=\"1\" class=\"dataframe\">\n",
       "  <thead>\n",
       "    <tr style=\"text-align: right;\">\n",
       "      <th></th>\n",
       "      <th>Date</th>\n",
       "      <th>News</th>\n",
       "    </tr>\n",
       "  </thead>\n",
       "  <tbody>\n",
       "    <tr>\n",
       "      <th>0</th>\n",
       "      <td>2001-01-02</td>\n",
       "      <td>Status quo will not be disturbed at Ayodhya; s...</td>\n",
       "    </tr>\n",
       "    <tr>\n",
       "      <th>1</th>\n",
       "      <td>2001-01-03</td>\n",
       "      <td>Powerless north India gropes in the dark Think...</td>\n",
       "    </tr>\n",
       "    <tr>\n",
       "      <th>2</th>\n",
       "      <td>2001-01-04</td>\n",
       "      <td>The string that pulled Stephen Hawking to Indi...</td>\n",
       "    </tr>\n",
       "    <tr>\n",
       "      <th>3</th>\n",
       "      <td>2001-01-05</td>\n",
       "      <td>Light combat craft takes India into club class...</td>\n",
       "    </tr>\n",
       "    <tr>\n",
       "      <th>4</th>\n",
       "      <td>2001-01-06</td>\n",
       "      <td>Light combat craft takes India into club class...</td>\n",
       "    </tr>\n",
       "    <tr>\n",
       "      <th>...</th>\n",
       "      <td>...</td>\n",
       "      <td>...</td>\n",
       "    </tr>\n",
       "    <tr>\n",
       "      <th>251</th>\n",
       "      <td>2001-10-22</td>\n",
       "      <td>State govt. defends move on Ghai's film instit...</td>\n",
       "    </tr>\n",
       "    <tr>\n",
       "      <th>252</th>\n",
       "      <td>2001-10-23</td>\n",
       "      <td>'Safe passage' hits patch; Zoo animals breathe...</td>\n",
       "    </tr>\n",
       "    <tr>\n",
       "      <th>253</th>\n",
       "      <td>2001-10-24</td>\n",
       "      <td>Wholesalers sell medicines directly to many cu...</td>\n",
       "    </tr>\n",
       "    <tr>\n",
       "      <th>254</th>\n",
       "      <td>2001-10-25</td>\n",
       "      <td>Heroin seized; two detained Security around RJ...</td>\n",
       "    </tr>\n",
       "    <tr>\n",
       "      <th>255</th>\n",
       "      <td>2001-10-26</td>\n",
       "      <td>AUDA uses Canadian tech for quake-proof housin...</td>\n",
       "    </tr>\n",
       "  </tbody>\n",
       "</table>\n",
       "<p>256 rows × 2 columns</p>\n",
       "</div>"
      ],
      "text/plain": [
       "          Date                                               News\n",
       "0   2001-01-02  Status quo will not be disturbed at Ayodhya; s...\n",
       "1   2001-01-03  Powerless north India gropes in the dark Think...\n",
       "2   2001-01-04  The string that pulled Stephen Hawking to Indi...\n",
       "3   2001-01-05  Light combat craft takes India into club class...\n",
       "4   2001-01-06  Light combat craft takes India into club class...\n",
       "..         ...                                                ...\n",
       "251 2001-10-22  State govt. defends move on Ghai's film instit...\n",
       "252 2001-10-23  'Safe passage' hits patch; Zoo animals breathe...\n",
       "253 2001-10-24  Wholesalers sell medicines directly to many cu...\n",
       "254 2001-10-25  Heroin seized; two detained Security around RJ...\n",
       "255 2001-10-26  AUDA uses Canadian tech for quake-proof housin...\n",
       "\n",
       "[256 rows x 2 columns]"
      ]
     },
     "execution_count": 25,
     "metadata": {},
     "output_type": "execute_result"
    }
   ],
   "source": [
    "news = news[:256]\n",
    "news"
   ]
  },
  {
   "cell_type": "markdown",
   "id": "0d512085",
   "metadata": {},
   "source": [
    "## Adding Subjectivit and plority score"
   ]
  },
  {
   "cell_type": "code",
   "execution_count": 26,
   "id": "534f910d",
   "metadata": {},
   "outputs": [],
   "source": [
    "#Functions to get the subjectivity and polarity\n",
    "def getSubjectivity(text):\n",
    "  return TextBlob(text).sentiment.subjectivity\n",
    "\n",
    "def getPolarity(text):\n",
    "  return  TextBlob(text).sentiment.polarity"
   ]
  },
  {
   "cell_type": "code",
   "execution_count": 27,
   "id": "50adb9fb",
   "metadata": {},
   "outputs": [
    {
     "name": "stderr",
     "output_type": "stream",
     "text": [
      "C:\\Users\\DHEERA~1\\AppData\\Local\\Temp/ipykernel_22332/1465704759.py:2: SettingWithCopyWarning: \n",
      "A value is trying to be set on a copy of a slice from a DataFrame.\n",
      "Try using .loc[row_indexer,col_indexer] = value instead\n",
      "\n",
      "See the caveats in the documentation: https://pandas.pydata.org/pandas-docs/stable/user_guide/indexing.html#returning-a-view-versus-a-copy\n",
      "  news['Subjectivity'] = news['News'].apply(getSubjectivity)\n",
      "C:\\Users\\DHEERA~1\\AppData\\Local\\Temp/ipykernel_22332/1465704759.py:3: SettingWithCopyWarning: \n",
      "A value is trying to be set on a copy of a slice from a DataFrame.\n",
      "Try using .loc[row_indexer,col_indexer] = value instead\n",
      "\n",
      "See the caveats in the documentation: https://pandas.pydata.org/pandas-docs/stable/user_guide/indexing.html#returning-a-view-versus-a-copy\n",
      "  news['Polarity'] = news['News'].apply(getPolarity)\n"
     ]
    },
    {
     "data": {
      "text/html": [
       "<div>\n",
       "<style scoped>\n",
       "    .dataframe tbody tr th:only-of-type {\n",
       "        vertical-align: middle;\n",
       "    }\n",
       "\n",
       "    .dataframe tbody tr th {\n",
       "        vertical-align: top;\n",
       "    }\n",
       "\n",
       "    .dataframe thead th {\n",
       "        text-align: right;\n",
       "    }\n",
       "</style>\n",
       "<table border=\"1\" class=\"dataframe\">\n",
       "  <thead>\n",
       "    <tr style=\"text-align: right;\">\n",
       "      <th></th>\n",
       "      <th>Date</th>\n",
       "      <th>News</th>\n",
       "      <th>Subjectivity</th>\n",
       "      <th>Polarity</th>\n",
       "    </tr>\n",
       "  </thead>\n",
       "  <tbody>\n",
       "    <tr>\n",
       "      <th>0</th>\n",
       "      <td>2001-01-02</td>\n",
       "      <td>Status quo will not be disturbed at Ayodhya; s...</td>\n",
       "      <td>0.282333</td>\n",
       "      <td>0.151333</td>\n",
       "    </tr>\n",
       "    <tr>\n",
       "      <th>1</th>\n",
       "      <td>2001-01-03</td>\n",
       "      <td>Powerless north India gropes in the dark Think...</td>\n",
       "      <td>0.407692</td>\n",
       "      <td>0.088462</td>\n",
       "    </tr>\n",
       "    <tr>\n",
       "      <th>2</th>\n",
       "      <td>2001-01-04</td>\n",
       "      <td>The string that pulled Stephen Hawking to Indi...</td>\n",
       "      <td>0.446847</td>\n",
       "      <td>0.087961</td>\n",
       "    </tr>\n",
       "    <tr>\n",
       "      <th>3</th>\n",
       "      <td>2001-01-05</td>\n",
       "      <td>Light combat craft takes India into club class...</td>\n",
       "      <td>0.476612</td>\n",
       "      <td>0.262024</td>\n",
       "    </tr>\n",
       "    <tr>\n",
       "      <th>4</th>\n",
       "      <td>2001-01-06</td>\n",
       "      <td>Light combat craft takes India into club class...</td>\n",
       "      <td>0.439394</td>\n",
       "      <td>0.248485</td>\n",
       "    </tr>\n",
       "    <tr>\n",
       "      <th>...</th>\n",
       "      <td>...</td>\n",
       "      <td>...</td>\n",
       "      <td>...</td>\n",
       "      <td>...</td>\n",
       "    </tr>\n",
       "    <tr>\n",
       "      <th>251</th>\n",
       "      <td>2001-10-22</td>\n",
       "      <td>State govt. defends move on Ghai's film instit...</td>\n",
       "      <td>0.458529</td>\n",
       "      <td>0.007650</td>\n",
       "    </tr>\n",
       "    <tr>\n",
       "      <th>252</th>\n",
       "      <td>2001-10-23</td>\n",
       "      <td>'Safe passage' hits patch; Zoo animals breathe...</td>\n",
       "      <td>0.456753</td>\n",
       "      <td>0.024063</td>\n",
       "    </tr>\n",
       "    <tr>\n",
       "      <th>253</th>\n",
       "      <td>2001-10-24</td>\n",
       "      <td>Wholesalers sell medicines directly to many cu...</td>\n",
       "      <td>0.430705</td>\n",
       "      <td>0.098858</td>\n",
       "    </tr>\n",
       "    <tr>\n",
       "      <th>254</th>\n",
       "      <td>2001-10-25</td>\n",
       "      <td>Heroin seized; two detained Security around RJ...</td>\n",
       "      <td>0.351563</td>\n",
       "      <td>-0.040932</td>\n",
       "    </tr>\n",
       "    <tr>\n",
       "      <th>255</th>\n",
       "      <td>2001-10-26</td>\n",
       "      <td>AUDA uses Canadian tech for quake-proof housin...</td>\n",
       "      <td>0.378386</td>\n",
       "      <td>0.004595</td>\n",
       "    </tr>\n",
       "  </tbody>\n",
       "</table>\n",
       "<p>256 rows × 4 columns</p>\n",
       "</div>"
      ],
      "text/plain": [
       "          Date                                               News  \\\n",
       "0   2001-01-02  Status quo will not be disturbed at Ayodhya; s...   \n",
       "1   2001-01-03  Powerless north India gropes in the dark Think...   \n",
       "2   2001-01-04  The string that pulled Stephen Hawking to Indi...   \n",
       "3   2001-01-05  Light combat craft takes India into club class...   \n",
       "4   2001-01-06  Light combat craft takes India into club class...   \n",
       "..         ...                                                ...   \n",
       "251 2001-10-22  State govt. defends move on Ghai's film instit...   \n",
       "252 2001-10-23  'Safe passage' hits patch; Zoo animals breathe...   \n",
       "253 2001-10-24  Wholesalers sell medicines directly to many cu...   \n",
       "254 2001-10-25  Heroin seized; two detained Security around RJ...   \n",
       "255 2001-10-26  AUDA uses Canadian tech for quake-proof housin...   \n",
       "\n",
       "     Subjectivity  Polarity  \n",
       "0        0.282333  0.151333  \n",
       "1        0.407692  0.088462  \n",
       "2        0.446847  0.087961  \n",
       "3        0.476612  0.262024  \n",
       "4        0.439394  0.248485  \n",
       "..            ...       ...  \n",
       "251      0.458529  0.007650  \n",
       "252      0.456753  0.024063  \n",
       "253      0.430705  0.098858  \n",
       "254      0.351563 -0.040932  \n",
       "255      0.378386  0.004595  \n",
       "\n",
       "[256 rows x 4 columns]"
      ]
     },
     "execution_count": 27,
     "metadata": {},
     "output_type": "execute_result"
    }
   ],
   "source": [
    "#Adding subjectivity and polarity columns\n",
    "news['Subjectivity'] = news['News'].apply(getSubjectivity)\n",
    "news['Polarity'] = news['News'].apply(getPolarity)\n",
    "news"
   ]
  },
  {
   "cell_type": "markdown",
   "id": "d2fdac2b",
   "metadata": {},
   "source": [
    "## Performing Sentiment Analysis over the news Headlines"
   ]
  },
  {
   "cell_type": "code",
   "execution_count": 28,
   "id": "eb6a6075",
   "metadata": {},
   "outputs": [
    {
     "name": "stderr",
     "output_type": "stream",
     "text": [
      "C:\\Users\\DHEERA~1\\AppData\\Local\\Temp/ipykernel_22332/596361539.py:3: SettingWithCopyWarning: \n",
      "A value is trying to be set on a copy of a slice from a DataFrame.\n",
      "Try using .loc[row_indexer,col_indexer] = value instead\n",
      "\n",
      "See the caveats in the documentation: https://pandas.pydata.org/pandas-docs/stable/user_guide/indexing.html#returning-a-view-versus-a-copy\n",
      "  news['Compound'] = [sia.polarity_scores(v)['compound'] for v in news['News']]\n"
     ]
    }
   ],
   "source": [
    "#Adding sentiment score to news\n",
    "sia = SentimentIntensityAnalyzer()\n",
    "news['Compound'] = [sia.polarity_scores(v)['compound'] for v in news['News']]\n"
   ]
  },
  {
   "cell_type": "code",
   "execution_count": 29,
   "id": "6ea7e841",
   "metadata": {},
   "outputs": [
    {
     "name": "stderr",
     "output_type": "stream",
     "text": [
      "C:\\Users\\DHEERA~1\\AppData\\Local\\Temp/ipykernel_22332/48938038.py:1: SettingWithCopyWarning: \n",
      "A value is trying to be set on a copy of a slice from a DataFrame.\n",
      "Try using .loc[row_indexer,col_indexer] = value instead\n",
      "\n",
      "See the caveats in the documentation: https://pandas.pydata.org/pandas-docs/stable/user_guide/indexing.html#returning-a-view-versus-a-copy\n",
      "  news['Negative'] = [sia.polarity_scores(v)['neg'] for v in news['News']]\n"
     ]
    }
   ],
   "source": [
    "news['Negative'] = [sia.polarity_scores(v)['neg'] for v in news['News']]"
   ]
  },
  {
   "cell_type": "code",
   "execution_count": 30,
   "id": "c32ccca2",
   "metadata": {},
   "outputs": [
    {
     "name": "stderr",
     "output_type": "stream",
     "text": [
      "C:\\Users\\DHEERA~1\\AppData\\Local\\Temp/ipykernel_22332/21052234.py:1: SettingWithCopyWarning: \n",
      "A value is trying to be set on a copy of a slice from a DataFrame.\n",
      "Try using .loc[row_indexer,col_indexer] = value instead\n",
      "\n",
      "See the caveats in the documentation: https://pandas.pydata.org/pandas-docs/stable/user_guide/indexing.html#returning-a-view-versus-a-copy\n",
      "  news['Neutral'] = [sia.polarity_scores(v)['neu'] for v in news['News']]\n"
     ]
    }
   ],
   "source": [
    "news['Neutral'] = [sia.polarity_scores(v)['neu'] for v in news['News']]\n"
   ]
  },
  {
   "cell_type": "code",
   "execution_count": 31,
   "id": "9dc3908e",
   "metadata": {},
   "outputs": [
    {
     "name": "stderr",
     "output_type": "stream",
     "text": [
      "C:\\Users\\DHEERA~1\\AppData\\Local\\Temp/ipykernel_22332/2708589958.py:1: SettingWithCopyWarning: \n",
      "A value is trying to be set on a copy of a slice from a DataFrame.\n",
      "Try using .loc[row_indexer,col_indexer] = value instead\n",
      "\n",
      "See the caveats in the documentation: https://pandas.pydata.org/pandas-docs/stable/user_guide/indexing.html#returning-a-view-versus-a-copy\n",
      "  news['Positive'] = [sia.polarity_scores(v)['pos'] for v in news['News']]\n"
     ]
    }
   ],
   "source": [
    "news['Positive'] = [sia.polarity_scores(v)['pos'] for v in news['News']]"
   ]
  },
  {
   "cell_type": "code",
   "execution_count": 201,
   "id": "1107c327",
   "metadata": {},
   "outputs": [
    {
     "name": "stderr",
     "output_type": "stream",
     "text": [
      "[nltk_data] Downloading package vader_lexicon to C:\\Users\\Dheeraj\n",
      "[nltk_data]     Chouhan\\AppData\\Roaming\\nltk_data...\n"
     ]
    },
    {
     "data": {
      "text/plain": [
       "True"
      ]
     },
     "execution_count": 201,
     "metadata": {},
     "output_type": "execute_result"
    }
   ],
   "source": [
    "import nltk\n",
    "nltk.download('vader_lexicon')"
   ]
  },
  {
   "cell_type": "code",
   "execution_count": 32,
   "id": "f75c604e",
   "metadata": {},
   "outputs": [
    {
     "data": {
      "text/html": [
       "<div>\n",
       "<style scoped>\n",
       "    .dataframe tbody tr th:only-of-type {\n",
       "        vertical-align: middle;\n",
       "    }\n",
       "\n",
       "    .dataframe tbody tr th {\n",
       "        vertical-align: top;\n",
       "    }\n",
       "\n",
       "    .dataframe thead th {\n",
       "        text-align: right;\n",
       "    }\n",
       "</style>\n",
       "<table border=\"1\" class=\"dataframe\">\n",
       "  <thead>\n",
       "    <tr style=\"text-align: right;\">\n",
       "      <th></th>\n",
       "      <th>Subjectivity</th>\n",
       "      <th>Polarity</th>\n",
       "      <th>Compound</th>\n",
       "      <th>Negative</th>\n",
       "      <th>Neutral</th>\n",
       "      <th>Positive</th>\n",
       "    </tr>\n",
       "  </thead>\n",
       "  <tbody>\n",
       "    <tr>\n",
       "      <th>0</th>\n",
       "      <td>0.282333</td>\n",
       "      <td>0.151333</td>\n",
       "      <td>-0.9811</td>\n",
       "      <td>0.122</td>\n",
       "      <td>0.807</td>\n",
       "      <td>0.071</td>\n",
       "    </tr>\n",
       "    <tr>\n",
       "      <th>1</th>\n",
       "      <td>0.407692</td>\n",
       "      <td>0.088462</td>\n",
       "      <td>-0.2640</td>\n",
       "      <td>0.122</td>\n",
       "      <td>0.766</td>\n",
       "      <td>0.111</td>\n",
       "    </tr>\n",
       "    <tr>\n",
       "      <th>2</th>\n",
       "      <td>0.446847</td>\n",
       "      <td>0.087961</td>\n",
       "      <td>0.8738</td>\n",
       "      <td>0.100</td>\n",
       "      <td>0.797</td>\n",
       "      <td>0.103</td>\n",
       "    </tr>\n",
       "    <tr>\n",
       "      <th>3</th>\n",
       "      <td>0.476612</td>\n",
       "      <td>0.262024</td>\n",
       "      <td>0.9769</td>\n",
       "      <td>0.124</td>\n",
       "      <td>0.719</td>\n",
       "      <td>0.157</td>\n",
       "    </tr>\n",
       "    <tr>\n",
       "      <th>4</th>\n",
       "      <td>0.439394</td>\n",
       "      <td>0.248485</td>\n",
       "      <td>-0.4215</td>\n",
       "      <td>0.152</td>\n",
       "      <td>0.704</td>\n",
       "      <td>0.143</td>\n",
       "    </tr>\n",
       "    <tr>\n",
       "      <th>...</th>\n",
       "      <td>...</td>\n",
       "      <td>...</td>\n",
       "      <td>...</td>\n",
       "      <td>...</td>\n",
       "      <td>...</td>\n",
       "      <td>...</td>\n",
       "    </tr>\n",
       "    <tr>\n",
       "      <th>251</th>\n",
       "      <td>0.458529</td>\n",
       "      <td>0.007650</td>\n",
       "      <td>-0.9986</td>\n",
       "      <td>0.173</td>\n",
       "      <td>0.722</td>\n",
       "      <td>0.105</td>\n",
       "    </tr>\n",
       "    <tr>\n",
       "      <th>252</th>\n",
       "      <td>0.456753</td>\n",
       "      <td>0.024063</td>\n",
       "      <td>-0.9998</td>\n",
       "      <td>0.213</td>\n",
       "      <td>0.697</td>\n",
       "      <td>0.090</td>\n",
       "    </tr>\n",
       "    <tr>\n",
       "      <th>253</th>\n",
       "      <td>0.430705</td>\n",
       "      <td>0.098858</td>\n",
       "      <td>-0.9984</td>\n",
       "      <td>0.176</td>\n",
       "      <td>0.726</td>\n",
       "      <td>0.098</td>\n",
       "    </tr>\n",
       "    <tr>\n",
       "      <th>254</th>\n",
       "      <td>0.351563</td>\n",
       "      <td>-0.040932</td>\n",
       "      <td>-0.9984</td>\n",
       "      <td>0.178</td>\n",
       "      <td>0.711</td>\n",
       "      <td>0.111</td>\n",
       "    </tr>\n",
       "    <tr>\n",
       "      <th>255</th>\n",
       "      <td>0.378386</td>\n",
       "      <td>0.004595</td>\n",
       "      <td>-0.9982</td>\n",
       "      <td>0.137</td>\n",
       "      <td>0.797</td>\n",
       "      <td>0.067</td>\n",
       "    </tr>\n",
       "  </tbody>\n",
       "</table>\n",
       "<p>256 rows × 6 columns</p>\n",
       "</div>"
      ],
      "text/plain": [
       "     Subjectivity  Polarity  Compound  Negative  Neutral  Positive\n",
       "0        0.282333  0.151333   -0.9811     0.122    0.807     0.071\n",
       "1        0.407692  0.088462   -0.2640     0.122    0.766     0.111\n",
       "2        0.446847  0.087961    0.8738     0.100    0.797     0.103\n",
       "3        0.476612  0.262024    0.9769     0.124    0.719     0.157\n",
       "4        0.439394  0.248485   -0.4215     0.152    0.704     0.143\n",
       "..            ...       ...       ...       ...      ...       ...\n",
       "251      0.458529  0.007650   -0.9986     0.173    0.722     0.105\n",
       "252      0.456753  0.024063   -0.9998     0.213    0.697     0.090\n",
       "253      0.430705  0.098858   -0.9984     0.176    0.726     0.098\n",
       "254      0.351563 -0.040932   -0.9984     0.178    0.711     0.111\n",
       "255      0.378386  0.004595   -0.9982     0.137    0.797     0.067\n",
       "\n",
       "[256 rows x 6 columns]"
      ]
     },
     "execution_count": 32,
     "metadata": {},
     "output_type": "execute_result"
    }
   ],
   "source": [
    "d1 = news[['Subjectivity', 'Polarity', 'Compound', 'Negative', 'Neutral' ,'Positive']]\n",
    "d1"
   ]
  },
  {
   "cell_type": "markdown",
   "id": "4dc47834",
   "metadata": {},
   "source": [
    "## Data Normalization"
   ]
  },
  {
   "cell_type": "code",
   "execution_count": 34,
   "id": "e0d16662",
   "metadata": {},
   "outputs": [
    {
     "data": {
      "text/html": [
       "<div>\n",
       "<style scoped>\n",
       "    .dataframe tbody tr th:only-of-type {\n",
       "        vertical-align: middle;\n",
       "    }\n",
       "\n",
       "    .dataframe tbody tr th {\n",
       "        vertical-align: top;\n",
       "    }\n",
       "\n",
       "    .dataframe thead th {\n",
       "        text-align: right;\n",
       "    }\n",
       "</style>\n",
       "<table border=\"1\" class=\"dataframe\">\n",
       "  <thead>\n",
       "    <tr style=\"text-align: right;\">\n",
       "      <th></th>\n",
       "      <th>Subjectivity</th>\n",
       "      <th>Polarity</th>\n",
       "      <th>Compound</th>\n",
       "      <th>Negative</th>\n",
       "      <th>Neutral</th>\n",
       "      <th>Positive</th>\n",
       "    </tr>\n",
       "  </thead>\n",
       "  <tbody>\n",
       "    <tr>\n",
       "      <th>0</th>\n",
       "      <td>0.282333</td>\n",
       "      <td>0.427407</td>\n",
       "      <td>0.009455</td>\n",
       "      <td>0.274775</td>\n",
       "      <td>0.807</td>\n",
       "      <td>0.116776</td>\n",
       "    </tr>\n",
       "    <tr>\n",
       "      <th>1</th>\n",
       "      <td>0.407692</td>\n",
       "      <td>0.357550</td>\n",
       "      <td>0.370097</td>\n",
       "      <td>0.274775</td>\n",
       "      <td>0.766</td>\n",
       "      <td>0.182566</td>\n",
       "    </tr>\n",
       "    <tr>\n",
       "      <th>2</th>\n",
       "      <td>0.446847</td>\n",
       "      <td>0.356994</td>\n",
       "      <td>0.942315</td>\n",
       "      <td>0.225225</td>\n",
       "      <td>0.797</td>\n",
       "      <td>0.169408</td>\n",
       "    </tr>\n",
       "    <tr>\n",
       "      <th>3</th>\n",
       "      <td>0.476612</td>\n",
       "      <td>0.550397</td>\n",
       "      <td>0.994166</td>\n",
       "      <td>0.279279</td>\n",
       "      <td>0.719</td>\n",
       "      <td>0.258224</td>\n",
       "    </tr>\n",
       "    <tr>\n",
       "      <th>4</th>\n",
       "      <td>0.439394</td>\n",
       "      <td>0.535354</td>\n",
       "      <td>0.290887</td>\n",
       "      <td>0.342342</td>\n",
       "      <td>0.704</td>\n",
       "      <td>0.235197</td>\n",
       "    </tr>\n",
       "  </tbody>\n",
       "</table>\n",
       "</div>"
      ],
      "text/plain": [
       "   Subjectivity  Polarity  Compound  Negative  Neutral  Positive\n",
       "0      0.282333  0.427407  0.009455  0.274775    0.807  0.116776\n",
       "1      0.407692  0.357550  0.370097  0.274775    0.766  0.182566\n",
       "2      0.446847  0.356994  0.942315  0.225225    0.797  0.169408\n",
       "3      0.476612  0.550397  0.994166  0.279279    0.719  0.258224\n",
       "4      0.439394  0.535354  0.290887  0.342342    0.704  0.235197"
      ]
     },
     "execution_count": 34,
     "metadata": {},
     "output_type": "execute_result"
    }
   ],
   "source": [
    "from sklearn.preprocessing import MinMaxScaler\n",
    "sc = MinMaxScaler()\n",
    "new_df = pd.DataFrame(sc.fit_transform(d1))\n",
    "new_df.columns = d1.columns\n",
    "new_df.index = d1.index\n",
    "new_df.head()"
   ]
  },
  {
   "cell_type": "markdown",
   "id": "018b7674",
   "metadata": {},
   "source": [
    "## Spliting Dataset between Train and Test"
   ]
  },
  {
   "cell_type": "code",
   "execution_count": 40,
   "id": "c5702dbb",
   "metadata": {},
   "outputs": [
    {
     "data": {
      "text/plain": [
       "(200, 6)"
      ]
     },
     "execution_count": 40,
     "metadata": {},
     "output_type": "execute_result"
    }
   ],
   "source": [
    "\n",
    "from sklearn.model_selection import train_test_split\n",
    "X = new_df[0:250]\n",
    "y =df['Close']\n",
    "\n",
    "\n",
    "x_train, x_test, y_train, y_test = train_test_split(X, y, test_size=0.2, random_state = 0)\n",
    "x_train.shape\n"
   ]
  },
  {
   "cell_type": "markdown",
   "id": "c6df86a5",
   "metadata": {},
   "source": [
    "### Creating Model"
   ]
  },
  {
   "cell_type": "code",
   "execution_count": 41,
   "id": "e49ec2f2",
   "metadata": {},
   "outputs": [],
   "source": [
    "Rf = RandomForestRegressor()\n",
    "Rf.fit(x_train, y_train)\n",
    "prediction=Rf.predict(x_test)"
   ]
  },
  {
   "cell_type": "code",
   "execution_count": 46,
   "id": "a03972cf",
   "metadata": {},
   "outputs": [],
   "source": [
    "adb = AdaBoostRegressor()\n",
    "adb.fit(x_train, y_train)\n",
    "predict = adb.predict(x_test)"
   ]
  },
  {
   "cell_type": "markdown",
   "id": "0296a7a0",
   "metadata": {},
   "source": [
    "### Model Accuracy "
   ]
  },
  {
   "cell_type": "code",
   "execution_count": 48,
   "id": "993f536b",
   "metadata": {},
   "outputs": [
    {
     "name": "stdout",
     "output_type": "stream",
     "text": [
      "Root mean square error =  4208.417770171128  RMSE\n",
      "Root mean square error =  3960.4044451907407  RMSE\n"
     ]
    }
   ],
   "source": [
    "\n",
    "print(\"Root mean square error of RF model= \",math.sqrt(mean_squared_error(prediction,y_test)),\" RMSE\") \n",
    "print(\"Root mean square error of Adb model = \",math.sqrt(mean_squared_error(predict,y_test)),\" RMSE\") "
   ]
  },
  {
   "cell_type": "markdown",
   "id": "3573110d",
   "metadata": {},
   "source": [
    "I have used two models, i.e., Random Forest Regressor and Adaboost Regressor to carry out hybrid analysis. From the RMSE values we see that Random Forest Regressor gives a mode accurate output (3960 RMSE). However, both the models have very high RMSE values. The reason for high values is the unpredictible nature of the stock prices.\n"
   ]
  },
  {
   "cell_type": "code",
   "execution_count": null,
   "id": "014c8689",
   "metadata": {},
   "outputs": [],
   "source": []
  }
 ],
 "metadata": {
  "kernelspec": {
   "display_name": "Python 3 (ipykernel)",
   "language": "python",
   "name": "python3"
  },
  "language_info": {
   "codemirror_mode": {
    "name": "ipython",
    "version": 3
   },
   "file_extension": ".py",
   "mimetype": "text/x-python",
   "name": "python",
   "nbconvert_exporter": "python",
   "pygments_lexer": "ipython3",
   "version": "3.9.4"
  }
 },
 "nbformat": 4,
 "nbformat_minor": 5
}
